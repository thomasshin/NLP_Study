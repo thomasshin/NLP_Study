{
  "nbformat": 4,
  "nbformat_minor": 0,
  "metadata": {
    "colab": {
      "provenance": [],
      "gpuType": "T4",
      "authorship_tag": "ABX9TyNUjOsmaqMd6YCUgD5rot4F",
      "include_colab_link": true
    },
    "kernelspec": {
      "name": "python3",
      "display_name": "Python 3"
    },
    "language_info": {
      "name": "python"
    },
    "accelerator": "GPU"
  },
  "cells": [
    {
      "cell_type": "markdown",
      "metadata": {
        "id": "view-in-github",
        "colab_type": "text"
      },
      "source": [
        "<a href=\"https://colab.research.google.com/github/thomasshin/NLP_Study/blob/main/Pytorch_Practices/Pytorch_practice2.ipynb\" target=\"_parent\"><img src=\"https://colab.research.google.com/assets/colab-badge.svg\" alt=\"Open In Colab\"/></a>"
      ]
    },
    {
      "cell_type": "code",
      "execution_count": 1,
      "metadata": {
        "id": "PR2EY8ihpifT"
      },
      "outputs": [],
      "source": [
        "import torch"
      ]
    },
    {
      "cell_type": "markdown",
      "source": [
        "#Running Tensors and Pytorch objects on the GPUs (faster computations)\n",
        "GPU = faster computation on numbers thanks to CUDA + NVIDIA Hardware + PyTorch working behind the scenes.\n",
        "\n",
        "Getting a GPU\n",
        "1. Google Colab (free GPU)\n",
        "2. Purchase GPU\n",
        "3. Use cloud computing such as GCP, Azure, AWS..."
      ],
      "metadata": {
        "id": "_OjDn3E2qT_D"
      }
    },
    {
      "cell_type": "code",
      "source": [
        "!nvidia-smi"
      ],
      "metadata": {
        "colab": {
          "base_uri": "https://localhost:8080/"
        },
        "id": "IRP5z6xrqPsl",
        "outputId": "12c6e0aa-0fa5-4a73-eba0-0c5dd0d95261"
      },
      "execution_count": 2,
      "outputs": [
        {
          "output_type": "stream",
          "name": "stdout",
          "text": [
            "Wed Oct 25 03:53:30 2023       \n",
            "+-----------------------------------------------------------------------------+\n",
            "| NVIDIA-SMI 525.105.17   Driver Version: 525.105.17   CUDA Version: 12.0     |\n",
            "|-------------------------------+----------------------+----------------------+\n",
            "| GPU  Name        Persistence-M| Bus-Id        Disp.A | Volatile Uncorr. ECC |\n",
            "| Fan  Temp  Perf  Pwr:Usage/Cap|         Memory-Usage | GPU-Util  Compute M. |\n",
            "|                               |                      |               MIG M. |\n",
            "|===============================+======================+======================|\n",
            "|   0  Tesla T4            Off  | 00000000:00:04.0 Off |                    0 |\n",
            "| N/A   47C    P8     9W /  70W |      0MiB / 15360MiB |      0%      Default |\n",
            "|                               |                      |                  N/A |\n",
            "+-------------------------------+----------------------+----------------------+\n",
            "                                                                               \n",
            "+-----------------------------------------------------------------------------+\n",
            "| Processes:                                                                  |\n",
            "|  GPU   GI   CI        PID   Type   Process name                  GPU Memory |\n",
            "|        ID   ID                                                   Usage      |\n",
            "|=============================================================================|\n",
            "|  No running processes found                                                 |\n",
            "+-----------------------------------------------------------------------------+\n"
          ]
        }
      ]
    },
    {
      "cell_type": "markdown",
      "source": [
        "#2. Check for GPU access with PyTorch"
      ],
      "metadata": {
        "id": "ynITY2X0qYNF"
      }
    },
    {
      "cell_type": "code",
      "source": [
        "#Check for GPU access with pytorch\n",
        "torch.cuda.is_available()"
      ],
      "metadata": {
        "colab": {
          "base_uri": "https://localhost:8080/"
        },
        "id": "newEAtBLqXuZ",
        "outputId": "10cf5872-4e89-40b3-91fe-db66be2903fb"
      },
      "execution_count": 3,
      "outputs": [
        {
          "output_type": "execute_result",
          "data": {
            "text/plain": [
              "True"
            ]
          },
          "metadata": {},
          "execution_count": 3
        }
      ]
    },
    {
      "cell_type": "code",
      "source": [
        "#setup device agnostic code\n",
        "device = \"cuda\" if torch.cuda.is_available() else \"cpu\"\n",
        "device"
      ],
      "metadata": {
        "colab": {
          "base_uri": "https://localhost:8080/",
          "height": 35
        },
        "id": "JbPeIhDUqba3",
        "outputId": "2710a698-dde1-4eed-85e8-37608fd5b0e9"
      },
      "execution_count": 4,
      "outputs": [
        {
          "output_type": "execute_result",
          "data": {
            "text/plain": [
              "'cuda'"
            ],
            "application/vnd.google.colaboratory.intrinsic+json": {
              "type": "string"
            }
          },
          "metadata": {},
          "execution_count": 4
        }
      ]
    },
    {
      "cell_type": "code",
      "source": [
        "#Count number of devices\n",
        "torch.cuda.device_count()"
      ],
      "metadata": {
        "colab": {
          "base_uri": "https://localhost:8080/"
        },
        "id": "QAmmyfoPqefP",
        "outputId": "9c8bc5a2-3178-45f4-bc66-e3d6eb7477df"
      },
      "execution_count": 5,
      "outputs": [
        {
          "output_type": "execute_result",
          "data": {
            "text/plain": [
              "1"
            ]
          },
          "metadata": {},
          "execution_count": 5
        }
      ]
    },
    {
      "cell_type": "markdown",
      "source": [
        "#3. Putting tensors (and models) on the GPU\n",
        "The reason we want our tensors/models on the GPU is because using a GPU results in faster computations."
      ],
      "metadata": {
        "id": "qJwZVmrxq81E"
      }
    },
    {
      "cell_type": "code",
      "source": [
        "# default : cpu\n",
        "tensor = torch.tensor([1,2,3])\n",
        "\n",
        "# tensor not on GPU\n",
        "print(tensor, tensor.device)"
      ],
      "metadata": {
        "colab": {
          "base_uri": "https://localhost:8080/"
        },
        "id": "EK_M-Nh_qh1v",
        "outputId": "a3858361-5ccf-465a-e516-48568ba66192"
      },
      "execution_count": 6,
      "outputs": [
        {
          "output_type": "stream",
          "name": "stdout",
          "text": [
            "tensor([1, 2, 3]) cpu\n"
          ]
        }
      ]
    },
    {
      "cell_type": "code",
      "source": [
        "#move tensor to GPU\n",
        "tensor_on_gpu = tensor.to(device)\n",
        "tensor_on_gpu"
      ],
      "metadata": {
        "id": "IsERUO3Ur1K_",
        "colab": {
          "base_uri": "https://localhost:8080/"
        },
        "outputId": "0ad735bb-1ac5-4dba-c78c-acaa977fbb51"
      },
      "execution_count": 7,
      "outputs": [
        {
          "output_type": "execute_result",
          "data": {
            "text/plain": [
              "tensor([1, 2, 3], device='cuda:0')"
            ]
          },
          "metadata": {},
          "execution_count": 7
        }
      ]
    },
    {
      "cell_type": "markdown",
      "source": [
        "#4. Moving tensors back to CPU (for numpy)"
      ],
      "metadata": {
        "id": "8sTQlXYmNJOk"
      }
    },
    {
      "cell_type": "code",
      "source": [
        "#if tensor is on GPU, cannot transform it to numpy\n",
        "tensor_on_gpu.cpu().numpy()"
      ],
      "metadata": {
        "colab": {
          "base_uri": "https://localhost:8080/"
        },
        "id": "F3Y0vumCNHxT",
        "outputId": "96c22aa2-0d2f-41ed-8e35-6165b0b03b09"
      },
      "execution_count": 8,
      "outputs": [
        {
          "output_type": "execute_result",
          "data": {
            "text/plain": [
              "array([1, 2, 3])"
            ]
          },
          "metadata": {},
          "execution_count": 8
        }
      ]
    },
    {
      "cell_type": "code",
      "source": [
        "tensor_on_gpu.cpu().numpy()"
      ],
      "metadata": {
        "colab": {
          "base_uri": "https://localhost:8080/"
        },
        "id": "AgC4YmZzNPdN",
        "outputId": "385e8465-8cd4-43d4-df1b-1db0fe002f4a"
      },
      "execution_count": 9,
      "outputs": [
        {
          "output_type": "execute_result",
          "data": {
            "text/plain": [
              "array([1, 2, 3])"
            ]
          },
          "metadata": {},
          "execution_count": 9
        }
      ]
    },
    {
      "cell_type": "markdown",
      "source": [
        "#PyTorch Workflow"
      ],
      "metadata": {
        "id": "AsFLTIobNRVS"
      }
    },
    {
      "cell_type": "code",
      "source": [
        "import torch\n",
        "from torch import nn #nn contains all the building block for neural networks\n",
        "import matplotlib.pyplot as plt\n",
        "\n",
        "torch.__version__"
      ],
      "metadata": {
        "colab": {
          "base_uri": "https://localhost:8080/",
          "height": 35
        },
        "id": "A8FJLwZFNRpz",
        "outputId": "5b88f4bc-d2fd-4314-824e-5ab70ffe6289"
      },
      "execution_count": 10,
      "outputs": [
        {
          "output_type": "execute_result",
          "data": {
            "text/plain": [
              "'2.1.0+cu118'"
            ],
            "application/vnd.google.colaboratory.intrinsic+json": {
              "type": "string"
            }
          },
          "metadata": {},
          "execution_count": 10
        }
      ]
    },
    {
      "cell_type": "markdown",
      "source": [
        "#1. Data(preparing and loading)"
      ],
      "metadata": {
        "id": "g6C-T8a7NUDc"
      }
    },
    {
      "cell_type": "code",
      "source": [
        "#linear regression\n",
        "#create known param\n",
        "weight = 0.7\n",
        "bias = 0.3\n",
        "#create\n",
        "start = 0\n",
        "end = 1\n",
        "step = 0.02\n",
        "X = torch.arange(start, end, step).unsqueeze(dim=1)\n",
        "y = weight * X + bias\n",
        "\n",
        "X[:10], y[:10], len(X), len(y)"
      ],
      "metadata": {
        "colab": {
          "base_uri": "https://localhost:8080/"
        },
        "id": "8r_9AxPINV2C",
        "outputId": "4635b790-48c9-4816-b0d3-9d599ae05d37"
      },
      "execution_count": 11,
      "outputs": [
        {
          "output_type": "execute_result",
          "data": {
            "text/plain": [
              "(tensor([[0.0000],\n",
              "         [0.0200],\n",
              "         [0.0400],\n",
              "         [0.0600],\n",
              "         [0.0800],\n",
              "         [0.1000],\n",
              "         [0.1200],\n",
              "         [0.1400],\n",
              "         [0.1600],\n",
              "         [0.1800]]),\n",
              " tensor([[0.3000],\n",
              "         [0.3140],\n",
              "         [0.3280],\n",
              "         [0.3420],\n",
              "         [0.3560],\n",
              "         [0.3700],\n",
              "         [0.3840],\n",
              "         [0.3980],\n",
              "         [0.4120],\n",
              "         [0.4260]]),\n",
              " 50,\n",
              " 50)"
            ]
          },
          "metadata": {},
          "execution_count": 11
        }
      ]
    },
    {
      "cell_type": "markdown",
      "source": [
        "#Splitting train/test dataset"
      ],
      "metadata": {
        "id": "r67zkotWNbAf"
      }
    },
    {
      "cell_type": "code",
      "source": [
        "#create train/test split\n",
        "train_split = int(0.8 * len(X))\n",
        "X_train, y_train = X[:train_split], y[:train_split]\n",
        "X_test, y_test = X[train_split:], y[train_split:]\n",
        "\n",
        "len(X_test), len(X_train), len(y_train), len(y_test)"
      ],
      "metadata": {
        "colab": {
          "base_uri": "https://localhost:8080/"
        },
        "id": "DUNBxjyjNbdK",
        "outputId": "81b67d53-6edb-43b8-b9d3-04e0f624a1be"
      },
      "execution_count": 12,
      "outputs": [
        {
          "output_type": "execute_result",
          "data": {
            "text/plain": [
              "(10, 40, 40, 10)"
            ]
          },
          "metadata": {},
          "execution_count": 12
        }
      ]
    },
    {
      "cell_type": "code",
      "source": [
        "def plot_predictions(train_data = X_train,\n",
        "                     train_labels = y_train,\n",
        "                     test_data = X_test,\n",
        "                     test_labels = y_test,\n",
        "                     predictions = None):\n",
        "  \"\"\"\n",
        "  Plots training data, test data and compares predictions.\n",
        "  \"\"\"\n",
        "  plt.figure(figsize=(10,7))\n",
        "\n",
        "  #plot training data in blue\n",
        "  plt.scatter(train_data, train_labels, c = 'b', s = 4, label = \"Training data\")\n",
        "\n",
        "  #plot test data in green\n",
        "  plt.scatter(test_data, test_labels, c = 'g', s = 4, label = \"Testing data\")\n",
        "\n",
        "  if predictions is not None:\n",
        "    # Plot the predictions in red (predictions were made on the test data)\n",
        "    plt.scatter(test_data, predictions, c = 'r', s = 4, label = \"Predictions\")\n",
        "\n",
        "  plt.legend(prop={\"size\" : 14});"
      ],
      "metadata": {
        "id": "IqXpc20zNfAe"
      },
      "execution_count": 13,
      "outputs": []
    },
    {
      "cell_type": "code",
      "source": [
        "#Create a Linear Regression model class\n",
        "#PyTorch loves float32 by default\n",
        "class LinearRegression(nn.Module):\n",
        "  def __init__(self):\n",
        "    super().__init__()\n",
        "    self.weights = nn.Parameter(torch.randn(1, dtype=torch.float), requires_grad=True)\n",
        "    self.bias = nn.Parameter(torch.randn(1, dtype=torch.float), requires_grad=True)\n",
        "\n",
        "  #Forward defines the computation in the model\n",
        "  def forward(self, x: torch.Tensor) -> torch.Tensor:\n",
        "    return self.weights * x + self.bias"
      ],
      "metadata": {
        "id": "MGzYqDKTNuFl"
      },
      "execution_count": 14,
      "outputs": []
    },
    {
      "cell_type": "markdown",
      "source": [
        "#Checking the contents of a PyTorch model"
      ],
      "metadata": {
        "id": "lJFhRGTvX7Qo"
      }
    },
    {
      "cell_type": "code",
      "source": [
        "torch.manual_seed(42)\n",
        "model_0 = LinearRegression()\n",
        "list(model_0.parameters())"
      ],
      "metadata": {
        "colab": {
          "base_uri": "https://localhost:8080/"
        },
        "id": "QgfkRDmEYBKL",
        "outputId": "851ee790-4228-47ed-88a5-9573327dc085"
      },
      "execution_count": 15,
      "outputs": [
        {
          "output_type": "execute_result",
          "data": {
            "text/plain": [
              "[Parameter containing:\n",
              " tensor([0.3367], requires_grad=True),\n",
              " Parameter containing:\n",
              " tensor([0.1288], requires_grad=True)]"
            ]
          },
          "metadata": {},
          "execution_count": 15
        }
      ]
    },
    {
      "cell_type": "code",
      "source": [
        "model_0.state_dict()"
      ],
      "metadata": {
        "colab": {
          "base_uri": "https://localhost:8080/"
        },
        "id": "1_zVs9eMaU3N",
        "outputId": "3cadb82f-2a50-4b4e-89dd-3ee072036ab4"
      },
      "execution_count": 16,
      "outputs": [
        {
          "output_type": "execute_result",
          "data": {
            "text/plain": [
              "OrderedDict([('weights', tensor([0.3367])), ('bias', tensor([0.1288]))])"
            ]
          },
          "metadata": {},
          "execution_count": 16
        }
      ]
    },
    {
      "cell_type": "markdown",
      "source": [
        "#Prediction using torch.inference_mode()\n",
        "\n",
        "When we pass data to our model, it'll go through the model's forward() method and produce a result using the computation we've defined.\n",
        "\n",
        "As the name suggests, torch.inference_mode() is used when using a model for inference (making predictions).\n",
        "\n",
        "torch.inference_mode() turns off a bunch of things (like gradient tracking, which is necessary for training but not for inference) to make forward-passes (data going through the forward() method) faster.\n",
        "\n",
        "In older PyTorch code, you may also see torch.no_grad() being used for inference. While torch.inference_mode() and torch.no_grad() do similar things,\n",
        "\n",
        "torch.inference_mode() is newer, potentially faster and preferred. See this Tweet from PyTorch for more."
      ],
      "metadata": {
        "id": "B7cca5uaeOkJ"
      }
    },
    {
      "cell_type": "code",
      "source": [
        "#Make predictions with model\n",
        "with torch.inference_mode():\n",
        "  y_preds = model_0(X_test)\n",
        "\n",
        "# Note: in older PyTorch code you might also see torch.no_grad()\n",
        "# with torch.no_grad():\n",
        "#   y_preds = model_0(X_test)"
      ],
      "metadata": {
        "id": "7gCHy1gaeTJT"
      },
      "execution_count": 17,
      "outputs": []
    },
    {
      "cell_type": "code",
      "source": [
        "X_test.shape, y_test.shape"
      ],
      "metadata": {
        "colab": {
          "base_uri": "https://localhost:8080/"
        },
        "id": "Er8t-1_8xvSf",
        "outputId": "cabcd92f-560c-4af6-a292-b62dbeea49f0"
      },
      "execution_count": 18,
      "outputs": [
        {
          "output_type": "execute_result",
          "data": {
            "text/plain": [
              "(torch.Size([10, 1]), torch.Size([10, 1]))"
            ]
          },
          "metadata": {},
          "execution_count": 18
        }
      ]
    },
    {
      "cell_type": "code",
      "source": [
        "y_preds.shape, y_test.shape"
      ],
      "metadata": {
        "colab": {
          "base_uri": "https://localhost:8080/"
        },
        "id": "KYGlPPHefuvO",
        "outputId": "acc6c6dd-1814-4fee-9586-a2187235d369"
      },
      "execution_count": 19,
      "outputs": [
        {
          "output_type": "execute_result",
          "data": {
            "text/plain": [
              "(torch.Size([10, 1]), torch.Size([10, 1]))"
            ]
          },
          "metadata": {},
          "execution_count": 19
        }
      ]
    },
    {
      "cell_type": "code",
      "source": [
        "plot_predictions(predictions=y_preds)"
      ],
      "metadata": {
        "colab": {
          "base_uri": "https://localhost:8080/",
          "height": 599
        },
        "id": "heuoeDu2f1C5",
        "outputId": "36c1b875-8ed6-4209-af1e-63517689d1c9"
      },
      "execution_count": 20,
      "outputs": [
        {
          "output_type": "display_data",
          "data": {
            "text/plain": [
              "<Figure size 1000x700 with 1 Axes>"
            ],
            "image/png": "[encoded data removed]"
          },
          "metadata": {}
        }
      ]
    },
    {
      "cell_type": "markdown",
      "source": [
        "#Train our model"
      ],
      "metadata": {
        "id": "Q4vhZJ6ZiTLa"
      }
    },
    {
      "cell_type": "markdown",
      "source": [
        "Right now our model is making predictions using random parameters to make calculations, it's basically guessing (randomly).\n",
        "\n",
        "To fix that, we can update its internal parameters (I also refer to parameters as patterns), the weights and bias values we set randomly using nn.Parameter() and torch.randn() to be something that better represents the data.\n",
        "\n",
        "**Loss function**: Measures how wrong your models predictions (e.g. y_preds) are compared to the truth labels (e.g. y_test). Lower the better.\n",
        "\n",
        "**Optimizer**: Tells your model how to update its internal parameters to best lower the loss.\n",
        "\n",
        "We need:\n",
        "\n",
        "A Training Loop\n",
        "\n",
        "A Testing Loop"
      ],
      "metadata": {
        "id": "HnpnefoTiafV"
      }
    },
    {
      "cell_type": "code",
      "source": [
        "#loss function\n",
        "loss_fn = nn.L1Loss() #MAE loss\n",
        "#optimizer\n",
        "optimizer = torch.optim.SGD(params=model_0.parameters(), lr = 0.01)"
      ],
      "metadata": {
        "id": "amo0lNtziVxD"
      },
      "execution_count": 21,
      "outputs": []
    },
    {
      "cell_type": "code",
      "source": [
        "y_preds.shape, y_test"
      ],
      "metadata": {
        "colab": {
          "base_uri": "https://localhost:8080/"
        },
        "id": "RRxO_Jtxw_FU",
        "outputId": "d42359a4-0618-40ec-9bb2-59b742526ff9"
      },
      "execution_count": 22,
      "outputs": [
        {
          "output_type": "execute_result",
          "data": {
            "text/plain": [
              "(torch.Size([10, 1]),\n",
              " tensor([[0.8600],\n",
              "         [0.8740],\n",
              "         [0.8880],\n",
              "         [0.9020],\n",
              "         [0.9160],\n",
              "         [0.9300],\n",
              "         [0.9440],\n",
              "         [0.9580],\n",
              "         [0.9720],\n",
              "         [0.9860]]))"
            ]
          },
          "metadata": {},
          "execution_count": 22
        }
      ]
    },
    {
      "cell_type": "markdown",
      "source": [
        "#PyTorch Training Loop"
      ],
      "metadata": {
        "id": "41NOHer1svOS"
      }
    },
    {
      "cell_type": "code",
      "source": [
        "torch.manual_seed(42)\n",
        "epochs = 100\n",
        "train_loss_value = []\n",
        "test_loss_value = []\n",
        "epoch_count = []\n",
        "\n",
        "for epoch in range(epochs): #Pass the data through the model for a number of epochs(e.g. 100 for 100 passes of the data)\n",
        "  #training mode (default state)\n",
        "  model_0.train()\n",
        "  #Pass the data through the model, this will perform the forward () method located within the model object\n",
        "  y_preds = model_0(X_train)\n",
        "  #calculate the loss with loss function\n",
        "  loss = loss_fn(y_preds, y_train)\n",
        "  #Zero the optimizer gradients (they accumulate every epoch, zero them to start fresh each forward pass)\n",
        "  optimizer.zero_grad()\n",
        "  #backprop on the loss function (compute the gradient of every parameter with requires_grad=True)\n",
        "  loss.backward()\n",
        "  #Step the optimizer to update the model's parameters with respect to the gradients calculated by loss. backward ()\n",
        "  optimizer.step()\n",
        "\n",
        "  #testing mode\n",
        "  model_0.eval() #turns off different settings in the model not needed for evaluation/testing (dropout / batchnorm layers)\n",
        "\n",
        "  with torch.inference_mode(): #turns off gradient tracking & a couple more things behind the scenes\n",
        "    #1. forward pass\n",
        "    test_pred = model_0(X_test)\n",
        "    #2. calculate the loss\n",
        "    test_loss = loss_fn(test_pred, y_test)\n",
        "    #3. see what is happening\n",
        "    if epoch % 10 == 0:\n",
        "      epoch_count.append(epoch)\n",
        "      train_loss_value.append(loss.numpy())\n",
        "      test_loss_value.append(test_loss.numpy())\n",
        "      print(f\"epoch : {epoch}, train_loss : {loss}, test_loss : {test_loss}\")\n",
        "      print(model_0.state_dict())"
      ],
      "metadata": {
        "colab": {
          "base_uri": "https://localhost:8080/"
        },
        "id": "R1aQ-tqVsu3E",
        "outputId": "e9622bc1-f442-413e-85b7-28dab75e125c"
      },
      "execution_count": 23,
      "outputs": [
        {
          "output_type": "stream",
          "name": "stdout",
          "text": [
            "epoch : 0, train_loss : 0.31288138031959534, test_loss : 0.48106518387794495\n",
            "OrderedDict([('weights', tensor([0.3406])), ('bias', tensor([0.1388]))])\n",
            "epoch : 10, train_loss : 0.1976713240146637, test_loss : 0.3463551998138428\n",
            "OrderedDict([('weights', tensor([0.3796])), ('bias', tensor([0.2388]))])\n",
            "epoch : 20, train_loss : 0.08908725529909134, test_loss : 0.21729660034179688\n",
            "OrderedDict([('weights', tensor([0.4184])), ('bias', tensor([0.3333]))])\n",
            "epoch : 30, train_loss : 0.053148526698350906, test_loss : 0.14464017748832703\n",
            "OrderedDict([('weights', tensor([0.4512])), ('bias', tensor([0.3768]))])\n",
            "epoch : 40, train_loss : 0.04543796554207802, test_loss : 0.11360953003168106\n",
            "OrderedDict([('weights', tensor([0.4748])), ('bias', tensor([0.3868]))])\n",
            "epoch : 50, train_loss : 0.04167863354086876, test_loss : 0.09919948130846024\n",
            "OrderedDict([('weights', tensor([0.4938])), ('bias', tensor([0.3843]))])\n",
            "epoch : 60, train_loss : 0.03818932920694351, test_loss : 0.08886633068323135\n",
            "OrderedDict([('weights', tensor([0.5116])), ('bias', tensor([0.3788]))])\n",
            "epoch : 70, train_loss : 0.03476089984178543, test_loss : 0.0805937647819519\n",
            "OrderedDict([('weights', tensor([0.5288])), ('bias', tensor([0.3718]))])\n",
            "epoch : 80, train_loss : 0.03132382780313492, test_loss : 0.07232122868299484\n",
            "OrderedDict([('weights', tensor([0.5459])), ('bias', tensor([0.3648]))])\n",
            "epoch : 90, train_loss : 0.02788739837706089, test_loss : 0.06473556160926819\n",
            "OrderedDict([('weights', tensor([0.5629])), ('bias', tensor([0.3573]))])\n"
          ]
        }
      ]
    },
    {
      "cell_type": "code",
      "source": [
        "#plot loss curve\n",
        "plt.plot(epoch_count, train_loss_value, label = 'train_loss')\n",
        "plt.plot(epoch_count, test_loss_value, label = 'test_loss')\n",
        "plt.title('training and test loss curve')\n",
        "plt.xlabel('epochs')\n",
        "plt.ylabel('loss')\n",
        "plt.legend()\n",
        "plt.show()"
      ],
      "metadata": {
        "colab": {
          "base_uri": "https://localhost:8080/",
          "height": 472
        },
        "id": "6JU6pfAOPSKO",
        "outputId": "1d04d583-3321-49f3-a8fd-4c3796a0871b"
      },
      "execution_count": 24,
      "outputs": [
        {
          "output_type": "display_data",
          "data": {
            "text/plain": [
              "<Figure size 640x480 with 1 Axes>"
            ],
            "image/png": "[encoded data removed]"
          },
          "metadata": {}
        }
      ]
    },
    {
      "cell_type": "markdown",
      "source": [
        "#Making predictions with trained model"
      ],
      "metadata": {
        "id": "R9wZ4NixdmNN"
      }
    },
    {
      "cell_type": "code",
      "source": [
        "#1. eval mode\n",
        "model_0.eval()\n",
        "#2. Setup the inference mode context manager\n",
        "with torch.inference_mode():\n",
        "  #3. make sure the calculations are done with the model and data in the same device\n",
        "  # in our case, we haven't setup device-agnostic code yet so our data and model are\n",
        "  # on the CPU by default.\n",
        "  # model_0.to(device)\n",
        "  # X_test = X_test.to(device)\n",
        "  y_preds = model_0(X_test)\n",
        "y_preds"
      ],
      "metadata": {
        "colab": {
          "base_uri": "https://localhost:8080/"
        },
        "id": "PNxObdBHdpbo",
        "outputId": "605cfdd3-8371-4819-b68f-43302b11da70"
      },
      "execution_count": 25,
      "outputs": [
        {
          "output_type": "execute_result",
          "data": {
            "text/plain": [
              "tensor([[0.8141],\n",
              "        [0.8256],\n",
              "        [0.8372],\n",
              "        [0.8488],\n",
              "        [0.8603],\n",
              "        [0.8719],\n",
              "        [0.8835],\n",
              "        [0.8950],\n",
              "        [0.9066],\n",
              "        [0.9182]])"
            ]
          },
          "metadata": {},
          "execution_count": 25
        }
      ]
    },
    {
      "cell_type": "code",
      "source": [
        "plot_predictions(predictions=y_preds)"
      ],
      "metadata": {
        "colab": {
          "base_uri": "https://localhost:8080/",
          "height": 599
        },
        "id": "sntaNiZLfR-p",
        "outputId": "f391f107-3237-499f-98f7-dd4b194b6f58"
      },
      "execution_count": 26,
      "outputs": [
        {
          "output_type": "display_data",
          "data": {
            "text/plain": [
              "<Figure size 1000x700 with 1 Axes>"
            ],
            "image/png": "[encoded data removed]"
          },
          "metadata": {}
        }
      ]
    },
    {
      "cell_type": "markdown",
      "source": [
        "#Saving and reloading the model\n",
        "\n",
        "When saving a model for inference, it is only necessary to save the trained model’s learned parameters. Saving the model’s state_dict with the torch.save() function will give you the most flexibility for restoring the model later, which is why it is the recommended method for saving models.\n",
        "\n",
        "A common PyTorch convention is to save models using either a .pt or .pth file extension.\n",
        "\n",
        "Remember that you must call model.eval() to set dropout and batch normalization layers to evaluation mode before running inference. Failing to do this will yield inconsistent inference results."
      ],
      "metadata": {
        "id": "L-WHUAQofcUv"
      }
    },
    {
      "cell_type": "code",
      "source": [
        "from pathlib import Path\n",
        "# 1. Create models directory\n",
        "MODEL_PATH = Path(\"models\")\n",
        "MODEL_PATH.mkdir(parents=True, exist_ok=True)\n",
        "\n",
        "# 2. Create model save path\n",
        "MODEL_NAME = \"01_pytorch_workflow_model_0.pth\"\n",
        "MODEL_SAVE_PATH = MODEL_PATH / MODEL_NAME\n",
        "\n",
        "# 3. Save the model state dict\n",
        "print(f\"Saving model to: {MODEL_SAVE_PATH}\")\n",
        "torch.save(obj=model_0.state_dict(), f=MODEL_SAVE_PATH) # only saving the state_dict() only saves the models learned parameters"
      ],
      "metadata": {
        "colab": {
          "base_uri": "https://localhost:8080/"
        },
        "id": "g7uN6ADRfePu",
        "outputId": "3c13d5d3-84e2-425b-cdf0-d6eb418ba378"
      },
      "execution_count": 27,
      "outputs": [
        {
          "output_type": "stream",
          "name": "stdout",
          "text": [
            "Saving model to: models/01_pytorch_workflow_model_0.pth\n"
          ]
        }
      ]
    },
    {
      "cell_type": "code",
      "source": [
        "# Check the saved file path\n",
        "!ls -l models/01_pytorch_workflow_model_0.pth"
      ],
      "metadata": {
        "colab": {
          "base_uri": "https://localhost:8080/"
        },
        "id": "yD_kOBwWsTUs",
        "outputId": "3b09e33e-a2b0-43f0-f2a3-16c8f6a51937"
      },
      "execution_count": 28,
      "outputs": [
        {
          "output_type": "stream",
          "name": "stdout",
          "text": [
            "-rw-r--r-- 1 root root 1680 Oct 25 03:53 models/01_pytorch_workflow_model_0.pth\n"
          ]
        }
      ]
    },
    {
      "cell_type": "markdown",
      "source": [
        "#Loading a saved PyTorch model's state_dict()"
      ],
      "metadata": {
        "id": "dp5Sfk8htCzM"
      }
    },
    {
      "cell_type": "code",
      "source": [
        "# Instantiate a new instance of our model (this will be instantiated with random weights)\n",
        "loaded_model_0 = LinearRegression()\n",
        "\n",
        "# Load the state_dict of our saved model (this will update the new instance of our model with trained weights)\n",
        "loaded_model_0.load_state_dict(torch.load(f=MODEL_SAVE_PATH))"
      ],
      "metadata": {
        "colab": {
          "base_uri": "https://localhost:8080/"
        },
        "id": "LxzmNGzMtXOt",
        "outputId": "8e40fdf8-2eaf-497f-dfa7-03f5403b0d62"
      },
      "execution_count": 29,
      "outputs": [
        {
          "output_type": "execute_result",
          "data": {
            "text/plain": [
              "<All keys matched successfully>"
            ]
          },
          "metadata": {},
          "execution_count": 29
        }
      ]
    },
    {
      "cell_type": "markdown",
      "source": [
        "#PyTorch inference rules\n",
        "1. Set the model in evaluation mode (model.eval()).\n",
        "2. Make the predictions using the inference mode context manager (with torch.inference_mode(): ...).\n",
        "3. All predictions should be made with objects on the same device (e.g. data and model on GPU only or data and model on CPU only)."
      ],
      "metadata": {
        "id": "rflK26dCuAgS"
      }
    },
    {
      "cell_type": "code",
      "source": [
        "# 1. Put the loaded model into eval mode\n",
        "loaded_model_0.eval()\n",
        "\n",
        "# 2. Use the inference mode context manager to make predictions\n",
        "with torch.inference_mode():\n",
        "  loaded_model_preds = loaded_model_0(X_test)"
      ],
      "metadata": {
        "id": "hzMhUdpjt93s"
      },
      "execution_count": 30,
      "outputs": []
    },
    {
      "cell_type": "code",
      "source": [
        "y_preds == loaded_model_preds"
      ],
      "metadata": {
        "colab": {
          "base_uri": "https://localhost:8080/"
        },
        "id": "Gk4vHlKIu2wt",
        "outputId": "15a8c3f9-18be-4a5c-97aa-455cb45c5c32"
      },
      "execution_count": 31,
      "outputs": [
        {
          "output_type": "execute_result",
          "data": {
            "text/plain": [
              "tensor([[True],\n",
              "        [True],\n",
              "        [True],\n",
              "        [True],\n",
              "        [True],\n",
              "        [True],\n",
              "        [True],\n",
              "        [True],\n",
              "        [True],\n",
              "        [True]])"
            ]
          },
          "metadata": {},
          "execution_count": 31
        }
      ]
    }
  ]
}