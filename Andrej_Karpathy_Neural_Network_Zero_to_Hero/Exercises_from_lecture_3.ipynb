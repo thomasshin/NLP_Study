{
  "nbformat": 4,
  "nbformat_minor": 0,
  "metadata": {
    "colab": {
      "provenance": [],
      "include_colab_link": true
    },
    "kernelspec": {
      "name": "python3",
      "display_name": "Python 3"
    },
    "language_info": {
      "name": "python"
    },
    "accelerator": "GPU",
    "gpuClass": "standard"
  },
  "cells": [
    {
      "cell_type": "markdown",
      "metadata": {
        "id": "view-in-github",
        "colab_type": "text"
      },
      "source": [
        "<a href=\"https://colab.research.google.com/github/thomasshin/NLP_Study/blob/main/Andrej_Karpathy_Neural_Network_Zero_to_Hero/Exercises_from_lecture_3.ipynb\" target=\"_parent\"><img src=\"https://colab.research.google.com/assets/colab-badge.svg\" alt=\"Open In Colab\"/></a>"
      ]
    },
    {
      "cell_type": "code",
      "execution_count": null,
      "metadata": {
        "id": "PCayIGGarQfe"
      },
      "outputs": [],
      "source": [
        "from google.colab import drive\n",
        "import torch\n",
        "import torch.nn.functional as F\n",
        "import matplotlib.pyplot as plt\n",
        "%matplotlib inline"
      ]
    },
    {
      "cell_type": "code",
      "source": [
        "drive.mount('/content/drive')"
      ],
      "metadata": {
        "colab": {
          "base_uri": "https://localhost:8080/"
        },
        "id": "x8KIMmB7rVFx",
        "outputId": "96cb8dd7-d652-49fd-9935-fad874068e3f"
      },
      "execution_count": null,
      "outputs": [
        {
          "output_type": "stream",
          "name": "stdout",
          "text": [
            "Drive already mounted at /content/drive; to attempt to forcibly remount, call drive.mount(\"/content/drive\", force_remount=True).\n"
          ]
        }
      ]
    },
    {
      "cell_type": "code",
      "source": [
        "!ls \"/content/drive/My Drive/makemore-master\""
      ],
      "metadata": {
        "colab": {
          "base_uri": "https://localhost:8080/"
        },
        "id": "1nskRT6QrWSU",
        "outputId": "2f1365a6-311d-42bb-8fe6-bd8383f7970f"
      },
      "execution_count": null,
      "outputs": [
        {
          "output_type": "stream",
          "name": "stdout",
          "text": [
            "LICENSE  makemore.py  names.txt  README.md\n"
          ]
        }
      ]
    },
    {
      "cell_type": "code",
      "source": [
        "!cp \"/content/drive/My Drive/makemore-master/names.txt\" \"names.txt\""
      ],
      "metadata": {
        "id": "dzsf4fpHrXzt"
      },
      "execution_count": null,
      "outputs": []
    },
    {
      "cell_type": "code",
      "source": [
        "!ls"
      ],
      "metadata": {
        "colab": {
          "base_uri": "https://localhost:8080/"
        },
        "id": "7m9YJKNNrZaD",
        "outputId": "978f7b8d-ebaa-4002-a47a-19cf6fccf015"
      },
      "execution_count": null,
      "outputs": [
        {
          "output_type": "stream",
          "name": "stdout",
          "text": [
            "drive  names.txt  sample_data\n"
          ]
        }
      ]
    },
    {
      "cell_type": "code",
      "source": [
        "# read in all the words\n",
        "words = open('names.txt', 'r').read().splitlines()"
      ],
      "metadata": {
        "id": "qF5uilf6rcEo"
      },
      "execution_count": null,
      "outputs": []
    },
    {
      "cell_type": "code",
      "source": [
        "#build the vocabulary of characters and mappigs to/from integers\n",
        "chars = sorted(list(set(''.join(words))))\n",
        "stoi = {s:i+1 for i,s in enumerate(chars)}\n",
        "stoi['.'] = 0\n",
        "itos = {i:s for s, i in stoi.items()}\n",
        "print(itos)"
      ],
      "metadata": {
        "colab": {
          "base_uri": "https://localhost:8080/"
        },
        "id": "JJhrdPVqru3s",
        "outputId": "1762b0d2-a2ef-4e42-b2ca-4ebf0abc3d35"
      },
      "execution_count": null,
      "outputs": [
        {
          "output_type": "stream",
          "name": "stdout",
          "text": [
            "{1: 'a', 2: 'b', 3: 'c', 4: 'd', 5: 'e', 6: 'f', 7: 'g', 8: 'h', 9: 'i', 10: 'j', 11: 'k', 12: 'l', 13: 'm', 14: 'n', 15: 'o', 16: 'p', 17: 'q', 18: 'r', 19: 's', 20: 't', 21: 'u', 22: 'v', 23: 'w', 24: 'x', 25: 'y', 26: 'z', 0: '.'}\n"
          ]
        }
      ]
    },
    {
      "cell_type": "code",
      "source": [
        "# build the dataset\n",
        "block_size = 3 # context length: how many characters do we take to predict the next one?\n",
        "\n",
        "def build_dataset(words):\n",
        "  X, Y = [], []\n",
        "  for w in words:\n",
        "\n",
        "    #print(w)\n",
        "    context = [0] * block_size\n",
        "    for ch in w + '.':\n",
        "      ix = stoi[ch]\n",
        "      X.append(context)\n",
        "      Y.append(ix)\n",
        "      #print(''.join(itos[i] for i in context), '--->', itos[ix])\n",
        "      context = context[1:] + [ix] # crop and append\n",
        "\n",
        "  X = torch.tensor(X)\n",
        "  Y = torch.tensor(Y)\n",
        "  print(X.shape, Y.shape)\n",
        "  return X, Y\n",
        "\n",
        "import random\n",
        "random.seed(42)\n",
        "random.shuffle(words)\n",
        "n1 = int(0.8*len(words))\n",
        "n2 = int(0.9*len(words))\n",
        "\n",
        "Xtr, Ytr = build_dataset(words[:n1])\n",
        "Xdev, Ydev = build_dataset(words[n1:n2])\n",
        "Xte, Yte = build_dataset(words[n2:])"
      ],
      "metadata": {
        "colab": {
          "base_uri": "https://localhost:8080/"
        },
        "id": "k7Lk_iTxrvcJ",
        "outputId": "616e7a00-3ac9-4dff-da33-85e58c56cde4"
      },
      "execution_count": null,
      "outputs": [
        {
          "output_type": "stream",
          "name": "stdout",
          "text": [
            "torch.Size([182625, 3]) torch.Size([182625])\n",
            "torch.Size([22655, 3]) torch.Size([22655])\n",
            "torch.Size([22866, 3]) torch.Size([22866])\n"
          ]
        }
      ]
    },
    {
      "cell_type": "markdown",
      "source": [
        "### ***E01***\n",
        "Tune the hyperparameters of the training to beat my best validation loss of 2.2"
      ],
      "metadata": {
        "id": "rKb0WHmlpET9"
      }
    },
    {
      "cell_type": "code",
      "source": [
        "g = torch.Generator().manual_seed(2147483647)\n",
        "C = torch.randn((27,40), generator=g)\n",
        "W1 = torch.randn((120,300), generator=g)\n",
        "b1 = torch.randn(300, generator=g)\n",
        "W2 = torch.randn((300,27), generator=g)\n",
        "b2 = torch.randn(27, generator=g)\n",
        "parameters = [C, W1, b1, W2, b2]"
      ],
      "metadata": {
        "id": "xFh-jjsSrzfy"
      },
      "execution_count": null,
      "outputs": []
    },
    {
      "cell_type": "code",
      "source": [
        "for p in parameters:\n",
        "  p.requires_grad = True"
      ],
      "metadata": {
        "id": "I31YRY6HsU6e"
      },
      "execution_count": null,
      "outputs": []
    },
    {
      "cell_type": "code",
      "source": [
        "for i in range(300000):\n",
        "\n",
        "  # minibatch construction\n",
        "  ix = torch.randint(0, Xtr.shape[0], (32,))\n",
        "\n",
        "  # forward pass\n",
        "  emb = C[Xtr[ix]]\n",
        "  h = torch.tanh(emb.view(-1, 120) @ W1 + b1)\n",
        "  logits = h @ W2 + b2\n",
        "  loss = F.cross_entropy(logits, Ytr[ix])\n",
        "\n",
        "  # backward pass\n",
        "  for p in parameters:\n",
        "    p.grad = None\n",
        "  loss.backward()\n",
        "\n",
        "  # update\n",
        "  if i < 250000:\n",
        "    lr = 0.1\n",
        "  else:\n",
        "    lr = 0.01\n",
        "\n",
        "  for p in parameters:\n",
        "    p.data += -lr * p.grad\n",
        "\n",
        "  #track stats\n",
        "  #lri.append(i)\n",
        "  #lossi.append(loss.log10().item())"
      ],
      "metadata": {
        "id": "VyF6xb7fsVOy"
      },
      "execution_count": null,
      "outputs": []
    },
    {
      "cell_type": "code",
      "source": [
        "#tr loss\n",
        "emb = C[Xtr]\n",
        "h = torch.tanh(emb.view(-1, 120) @ W1 + b1)\n",
        "logits = h @ W2 + b2\n",
        "loss = F.cross_entropy(logits, Ytr)\n",
        "loss"
      ],
      "metadata": {
        "colab": {
          "base_uri": "https://localhost:8080/"
        },
        "id": "HrtEbOadJ_SU",
        "outputId": "dde84ced-36e8-4aec-bf63-e6556c78b840"
      },
      "execution_count": null,
      "outputs": [
        {
          "output_type": "execute_result",
          "data": {
            "text/plain": [
              "tensor(1.9888, grad_fn=<NllLossBackward0>)"
            ]
          },
          "metadata": {},
          "execution_count": 71
        }
      ]
    },
    {
      "cell_type": "code",
      "source": [
        "#dev/val loss\n",
        "emb = C[Xdev]\n",
        "h = torch.tanh(emb.view(-1, 120) @ W1 + b1)\n",
        "logits = h @ W2 + b2\n",
        "loss = F.cross_entropy(logits, Ydev)\n",
        "loss"
      ],
      "metadata": {
        "colab": {
          "base_uri": "https://localhost:8080/"
        },
        "id": "OqB2V3eIsfEt",
        "outputId": "c41270a5-7ed5-4a26-a239-dba3f902b305"
      },
      "execution_count": null,
      "outputs": [
        {
          "output_type": "execute_result",
          "data": {
            "text/plain": [
              "tensor(2.1290, grad_fn=<NllLossBackward0>)"
            ]
          },
          "metadata": {},
          "execution_count": 72
        }
      ]
    },
    {
      "cell_type": "code",
      "source": [
        "#test loss\n",
        "emb = C[Xte]\n",
        "h = torch.tanh(emb.view(-1, 120) @ W1 + b1)\n",
        "logits = h @ W2 + b2\n",
        "loss = F.cross_entropy(logits, Yte)\n",
        "loss"
      ],
      "metadata": {
        "colab": {
          "base_uri": "https://localhost:8080/"
        },
        "id": "l3n8kyjBJjKk",
        "outputId": "84509b69-6e06-4021-f125-85e9f61f9440"
      },
      "execution_count": null,
      "outputs": [
        {
          "output_type": "execute_result",
          "data": {
            "text/plain": [
              "tensor(2.1346, grad_fn=<NllLossBackward0>)"
            ]
          },
          "metadata": {},
          "execution_count": 73
        }
      ]
    },
    {
      "cell_type": "markdown",
      "source": [
        "### ***E02***\n",
        "I was not careful with the intialization of the network in this video. (1) What is the loss you'd get if the predicted probabilities at initialization were perfectly uniform? What loss do we achieve? (2) Can you tune the initialization to get a starting loss that is much more similar to (1)?"
      ],
      "metadata": {
        "id": "ka2l-B3k6GMB"
      }
    },
    {
      "cell_type": "code",
      "source": [
        "uniform_e = -torch.tensor(1/27).log()\n",
        "print(\"uniform initializatiom loss :\", uniform_e.item())"
      ],
      "metadata": {
        "colab": {
          "base_uri": "https://localhost:8080/"
        },
        "id": "ZD_BUhnMKN_-",
        "outputId": "3c5e5098-f9c5-4185-e638-a1ee664e6c40"
      },
      "execution_count": null,
      "outputs": [
        {
          "output_type": "stream",
          "name": "stdout",
          "text": [
            "uniform initializatiom loss : 3.295836925506592\n"
          ]
        }
      ]
    },
    {
      "cell_type": "code",
      "source": [
        "C_ = torch.randn((27,10), generator=g)\n",
        "W1_ = torch.randn((30,200), generator=g)\n",
        "b1_ = torch.randn(200, generator=g)\n",
        "W2_ = torch.randn((200,27)) * 0.001\n",
        "b2_ = torch.zeros(27)\n",
        "parameters_ = [C_, W1_, b1_, W2_, b2_]\n",
        "for p in parameters_:\n",
        "  p.requires_grad = True"
      ],
      "metadata": {
        "id": "LrMiQYknTf8d"
      },
      "execution_count": null,
      "outputs": []
    },
    {
      "cell_type": "code",
      "source": [
        "for i in range(1):\n",
        "\n",
        "  # minibatch construction\n",
        "  ix = torch.randint(0, Xtr.shape[0], (32,))\n",
        "\n",
        "  # forward pass\n",
        "  emb = C_[Xtr[ix]]\n",
        "  h = torch.tanh(emb.view(-1, 30) @ W1_ + b1_)\n",
        "  logits = h @ W2_ + b2_\n",
        "  loss = F.cross_entropy(logits, Ytr[ix])\n",
        "\n",
        "  # backward pass\n",
        "  for p in parameters_:\n",
        "    p.grad = None\n",
        "  loss.backward()\n",
        "\n",
        "  # update\n",
        "  lr = 0.1\n",
        "  for p in parameters_:\n",
        "    p.data += -lr * p.grad\n",
        "print(\"loss from tuned initialization :\", loss.item())"
      ],
      "metadata": {
        "colab": {
          "base_uri": "https://localhost:8080/"
        },
        "id": "AQTI0CwM6hbO",
        "outputId": "e4f1dd53-3276-4bf2-e223-d888306fa195"
      },
      "execution_count": null,
      "outputs": [
        {
          "output_type": "stream",
          "name": "stdout",
          "text": [
            "loss from tuned initialization : 3.2973854541778564\n"
          ]
        }
      ]
    },
    {
      "cell_type": "markdown",
      "source": [
        "### ***E03***\n",
        "Read the Bengio et al 2003 paper (link above), implement and try any idea from the paper. Did it work?\n",
        "\n"
      ],
      "metadata": {
        "id": "zOimN5FYpR3Y"
      }
    },
    {
      "cell_type": "markdown",
      "source": [
        "- Direct connections from the word features to the output"
      ],
      "metadata": {
        "id": "KfFS40Ti6OQk"
      }
    },
    {
      "cell_type": "code",
      "source": [
        "g = torch.Generator().manual_seed(2147483647)\n",
        "C__ = torch.randn((27,40), generator=g)\n",
        "W1__ = torch.randn((120,300), generator=g)\n",
        "b1__ = torch.randn(300, generator=g)\n",
        "W2__ = torch.randn((300,27), generator=g)\n",
        "b2__ = torch.randn(27)\n",
        "W3__ = torch.randn((120,27), generator=g)\n",
        "parameters__ = [C__, W1__, b1__, W2__, b2__, W3__]"
      ],
      "metadata": {
        "id": "e2LIIfZd5Sis"
      },
      "execution_count": null,
      "outputs": []
    },
    {
      "cell_type": "code",
      "source": [
        "for p in parameters__:\n",
        "  p.requires_grad = True"
      ],
      "metadata": {
        "id": "oQt4Bx845SuA"
      },
      "execution_count": null,
      "outputs": []
    },
    {
      "cell_type": "code",
      "source": [
        "for i in range(300000):\n",
        "\n",
        "  # minibatch construction\n",
        "  ix = torch.randint(0, Xtr.shape[0], (32,))\n",
        "\n",
        "  # forward pass\n",
        "  emb = C__[Xtr[ix]]\n",
        "  h = torch.tanh(emb.view(-1, 120) @ W1__ + b1__)\n",
        "  logits = h @ W2__ + b2__ + emb.view(-1,120) @ W3__ # Direct connections from the word features to the output\n",
        "  loss = F.cross_entropy(logits, Ytr[ix])\n",
        "\n",
        "  # backward pass\n",
        "  for p in parameters__:\n",
        "    p.grad = None\n",
        "  loss.backward()\n",
        "\n",
        "  # update\n",
        "  if i < 250000:\n",
        "    lr = 0.1\n",
        "  else:\n",
        "    lr = 0.01\n",
        "\n",
        "  for p in parameters__:\n",
        "    p.data += -lr * p.grad"
      ],
      "metadata": {
        "id": "I5wGQv1c5Swf"
      },
      "execution_count": null,
      "outputs": []
    },
    {
      "cell_type": "code",
      "source": [
        "#tr loss\n",
        "emb = C__[Xtr]\n",
        "h = torch.tanh(emb.view(-1, 120) @ W1__ + b1__)\n",
        "logits = h @ W2__ + b2__ + emb.view(-1,120) @ W3__\n",
        "loss = F.cross_entropy(logits, Ytr)\n",
        "loss"
      ],
      "metadata": {
        "id": "vwPVKYVs6peN",
        "colab": {
          "base_uri": "https://localhost:8080/"
        },
        "outputId": "0826c82a-de85-4b42-c810-b6f48b27a07c"
      },
      "execution_count": null,
      "outputs": [
        {
          "output_type": "execute_result",
          "data": {
            "text/plain": [
              "tensor(1.9937, grad_fn=<NllLossBackward0>)"
            ]
          },
          "metadata": {},
          "execution_count": 83
        }
      ]
    },
    {
      "cell_type": "code",
      "source": [
        "#dev/val loss\n",
        "emb = C__[Xdev]\n",
        "h = torch.tanh(emb.view(-1, 120) @ W1__ + b1__)\n",
        "logits = (h @ W2__ + b2__) + (emb.view(-1,120) @ W3__)\n",
        "loss = F.cross_entropy(logits, Ydev)\n",
        "loss"
      ],
      "metadata": {
        "id": "uc7q3sw86sUd",
        "colab": {
          "base_uri": "https://localhost:8080/"
        },
        "outputId": "096d964c-2262-4988-d74e-30b85a6d8a25"
      },
      "execution_count": null,
      "outputs": [
        {
          "output_type": "execute_result",
          "data": {
            "text/plain": [
              "tensor(2.1178, grad_fn=<NllLossBackward0>)"
            ]
          },
          "metadata": {},
          "execution_count": 84
        }
      ]
    },
    {
      "cell_type": "code",
      "source": [
        "#test loss\n",
        "emb = C__[Xte]\n",
        "h = torch.tanh(emb.view(-1, 120) @ W1__ + b1__)\n",
        "logits = (h @ W2__ + b2__) + (emb.view(-1,120) @ W3__)\n",
        "loss = F.cross_entropy(logits, Yte)\n",
        "loss"
      ],
      "metadata": {
        "id": "kL182_Eu6sjC",
        "colab": {
          "base_uri": "https://localhost:8080/"
        },
        "outputId": "0a7fbfcc-89b1-4e0e-c805-f94586322fd8"
      },
      "execution_count": null,
      "outputs": [
        {
          "output_type": "execute_result",
          "data": {
            "text/plain": [
              "tensor(2.1147, grad_fn=<NllLossBackward0>)"
            ]
          },
          "metadata": {},
          "execution_count": 85
        }
      ]
    },
    {
      "cell_type": "markdown",
      "source": [
        "Compare to original train, val and test losses, the Direct connections from the word features to the output has decreased the val and test losses."
      ],
      "metadata": {
        "id": "RakRIhKd6SQz"
      }
    }
  ]
}